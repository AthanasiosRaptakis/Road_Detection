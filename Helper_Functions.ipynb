{
 "cells": [
  {
   "cell_type": "code",
   "execution_count": 1,
   "metadata": {
    "collapsed": true
   },
   "outputs": [],
   "source": [
    "import numpy as np\n",
    "import matplotlib.pyplot as plt\n",
    "from skimage import exposure\n",
    "from skimage.io import imread\n",
    "from skimage.color import rgb2hsv\n",
    "from skimage.feature import structure_tensor_eigvals, structure_tensor, hessian_matrix_eigvals,hessian_matrix,hog\n",
    "from scipy.ndimage import gaussian_filter,gaussian_laplace,gaussian_gradient_magnitude\n",
    "from skimage.filters.rank import entropy\n",
    "import warnings\n",
    "warnings.filterwarnings('ignore')"
   ]
  },
  {
   "cell_type": "code",
   "execution_count": 2,
   "metadata": {
    "collapsed": true
   },
   "outputs": [],
   "source": [
    "def Generate_Features(I):\n",
    "    Features=[]\n",
    "    filters=[]\n",
    "    \n",
    "    \n",
    "    # RGB - Color Information\n",
    "    filters.append(I[:,:,0])\n",
    "    filters.append(I[:,:,1])\n",
    "    filters.append(I[:,:,2])\n",
    "    \n",
    "    \n",
    "    # HSV - Color Information\n",
    "\n",
    "    img_hsv=rgb2hsv(I)\n",
    "    H=img_hsv[:,:,0]\n",
    "    S=img_hsv[:,:,1]\n",
    "    V=img_hsv[:,:,2]\n",
    "    \n",
    "    filters.append(H)\n",
    "    filters.append(S)\n",
    "    filters.append(V)\n",
    "    \n",
    "    # ENTROPY\n",
    "    \n",
    "    N=[3,7,9,13,17,21]\n",
    "    for n in N: \n",
    "        E=entropy(V,selem=np.ones([n,n]))\n",
    "        E=E/np.max(E)\n",
    "        filters.append(E)\n",
    "    \n",
    "    # GAUSSIAN\n",
    "    \n",
    "    sigmas = [0.7, 1, 1.6, 3.5, 5, 10]\n",
    "    \n",
    "    for sigma in sigmas:\n",
    "        Gaussian = gaussian_filter(V, sigma=sigma)\n",
    "        filters.append(Gaussian)\n",
    " \n",
    "\n",
    "    # GAUSSIAN LAPLACE\n",
    "\n",
    "    for sigma in sigmas:\n",
    "        Gaus_Lapl = gaussian_laplace(V, sigma=sigma)\n",
    "        filters.append(Gaus_Lapl)\n",
    "        \n",
    "    # GAUSSIAN GRADIENT MAGNITUDE\n",
    "\n",
    "    for sigma in sigmas:\n",
    "        GGM = gaussian_gradient_magnitude(V, sigma=sigma)\n",
    "        filters.append(GGM)\n",
    "\n",
    "    # STRUCTURE TENSOR\n",
    "\n",
    "    for sigma in sigmas:\n",
    "        st_1,st_2= structure_tensor_eigvals(*structure_tensor(V, sigma))\n",
    "        filters.append(st_1)\n",
    "        filters.append(st_2)      \n",
    "\n",
    "    # HESSIAN MATRIX\n",
    "\n",
    "    for sigma in sigmas:\n",
    "        h_1,h_2 = hessian_matrix_eigvals(*hessian_matrix(V, sigma, order=\"rc\"))\n",
    "        filters.append(h_1)\n",
    "        filters.append(h_2)     \n",
    "\n",
    "        \n",
    "    Features=np.array(filters)\n",
    "    return Features"
   ]
  },
  {
   "cell_type": "code",
   "execution_count": 3,
   "metadata": {
    "collapsed": true
   },
   "outputs": [],
   "source": [
    "def Quality_Evaluation(Result,Ground_Truth):\n",
    "\n",
    "    #Calculate Precision, Completeness-Recal and Quality metrics\n",
    "    #for Quality Evaluation of our algorithm\n",
    "    \n",
    "    TP=np.sum(Result & Ground_Truth)\n",
    "    FP=np.sum(Result & ~Ground_Truth)\n",
    "    FN=np.sum(~Result & Ground_Truth)\n",
    "    \n",
    "    Precision= TP / ( TP + FP )\n",
    "    Completeness= TP / ( TP + FN )\n",
    "    Quality= TP / ( TP + FP + FN )\n",
    "    return Precision, Completeness, Quality"
   ]
  }
 ],
 "metadata": {
  "kernelspec": {
   "display_name": "Python 3",
   "language": "python",
   "name": "python3"
  },
  "language_info": {
   "codemirror_mode": {
    "name": "ipython",
    "version": 3
   },
   "file_extension": ".py",
   "mimetype": "text/x-python",
   "name": "python",
   "nbconvert_exporter": "python",
   "pygments_lexer": "ipython3",
   "version": "3.6.4"
  }
 },
 "nbformat": 4,
 "nbformat_minor": 2
}
