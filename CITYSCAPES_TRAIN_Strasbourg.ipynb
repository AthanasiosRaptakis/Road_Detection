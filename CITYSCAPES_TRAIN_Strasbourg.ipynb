{
 "cells": [
  {
   "cell_type": "code",
   "execution_count": null,
   "metadata": {},
   "outputs": [],
   "source": [
    "import numpy as np\n",
    "import matplotlib.pyplot as plt\n",
    "from Helper_Functions import Generate_Features, Quality_Evaluation\n",
    "from skimage.io import imread\n",
    "from skimage.transform import rescale\n",
    "from sklearn.ensemble import RandomForestClassifier\n",
    "from skimage.segmentation import random_walker\n",
    "from multiprocessing import cpu_count\n",
    "from skimage.morphology import opening, disk\n",
    "import os\n",
    "from sklearn.externals import joblib"
   ]
  },
  {
   "cell_type": "code",
   "execution_count": null,
   "metadata": {},
   "outputs": [],
   "source": [
    "GT_path=\"/home/thanos/Desktop/Project_ADAS_2017/CITYSCAPE/Ground_Truth/train/strasbourg\"\n",
    "Im_path=\"/home/thanos/Desktop/Project_ADAS_2017/CITYSCAPE/Images/train/strasbourg\"\n",
    "\n",
    "def Get_Image_and_Ground_Truth(GT_path,Im_path):\n",
    "    GT=[]\n",
    "    Im=[]\n",
    "    for file in os.listdir(GT_path):\n",
    "        if file.endswith(\"_gtFine_labelIds.png\"):\n",
    "            GT.append(file)\n",
    "\n",
    "\n",
    "    Im=os.listdir(Im_path)\n",
    "\n",
    "    GT=sorted(GT)\n",
    "    Im=sorted(Im)\n",
    "    return GT,Im"
   ]
  },
  {
   "cell_type": "code",
   "execution_count": null,
   "metadata": {
    "scrolled": false
   },
   "outputs": [],
   "source": [
    "GT,Im=Get_Image_and_Ground_Truth(GT_path,Im_path)\n",
    "\n",
    "Features=[]\n",
    "Labels=[]\n",
    "#0-173\n",
    "scale_factor=0.25\n",
    "steps=len(GT)\n",
    "for i in range(steps):\n",
    "    print('step = {}'.format(i))\n",
    "    Train_GT=imread(GT_path+\"/\"+GT[i])\n",
    "    Image_Train=imread(Im_path+\"/\"+Im[i])\n",
    "    \n",
    "    # Train Image\n",
    "    I_train=rescale(Image_Train,scale_factor,mode='reflect')\n",
    "    nx,ny=I_train[:,:,0].shape\n",
    "    # Train Labels\n",
    "    Train_Labels=rescale(Train_GT,scale_factor,mode='reflect', preserve_range=True)\n",
    "    mask_Train = Train_Labels == 7\n",
    "    # Find Train Features \n",
    "    Train_Features=np.reshape(Generate_Features(I_train),[54,nx*ny]).T\n",
    "    Features.append(Train_Features)\n",
    "    Labels.append(mask_Train.reshape(-1).astype('int'))\n",
    "Features=np.array(Features)\n",
    "Features=Features.reshape(steps*nx*ny,54)\n",
    "Labels=np.array(Labels)\n",
    "Labels=Labels.reshape(steps*nx*ny)    \n",
    "print(\"Feature and Label generation completed\")"
   ]
  },
  {
   "cell_type": "code",
   "execution_count": null,
   "metadata": {},
   "outputs": [],
   "source": [
    "print(np.array(Features).shape)\n",
    "print(np.array(Labels).shape)\n",
    "RF = RandomForestClassifier(n_estimators=256,max_depth=20,n_jobs=1)\n",
    "RF.fit(Features,Labels)"
   ]
  },
  {
   "cell_type": "code",
   "execution_count": null,
   "metadata": {},
   "outputs": [],
   "source": [
    "joblib.dump(RF, 'RF_strasbourg_mxd20est256.pkl') \n"
   ]
  }
 ],
 "metadata": {
  "kernelspec": {
   "display_name": "Python 3",
   "language": "python",
   "name": "python3"
  },
  "language_info": {
   "codemirror_mode": {
    "name": "ipython",
    "version": 3
   },
   "file_extension": ".py",
   "mimetype": "text/x-python",
   "name": "python",
   "nbconvert_exporter": "python",
   "pygments_lexer": "ipython3",
   "version": "3.6.4"
  }
 },
 "nbformat": 4,
 "nbformat_minor": 2
}
