{
 "cells": [
  {
   "cell_type": "code",
   "execution_count": 13,
   "metadata": {
    "collapsed": true
   },
   "outputs": [],
   "source": [
    "import numpy as np\n",
    "import matplotlib.pyplot as plt\n",
    "from Helper_Functions import Generate_Features, Quality_Evaluation\n",
    "from skimage.io import imread\n",
    "from skimage.transform import rescale\n",
    "from sklearn.ensemble import RandomForestClassifier\n",
    "from skimage.segmentation import random_walker\n",
    "from multiprocessing import cpu_count\n",
    "from skimage.morphology import opening, disk\n",
    "import os\n",
    "from sklearn.externals import joblib"
   ]
  },
  {
   "cell_type": "code",
   "execution_count": 14,
   "metadata": {
    "collapsed": true
   },
   "outputs": [],
   "source": [
    "Im_path=\"/home/thanos/Desktop/Project_ADAS_2017/KITI/image\"\n",
    "GT_path=\"/home/thanos/Desktop/Project_ADAS_2017/KITI/labels_3D\"\n",
    "\n",
    "def Get_Image_and_Ground_Truth(GT_path,Im_path):\n",
    "    GT=[]\n",
    "    Im=[]\n",
    "    for file in os.listdir(GT_path):\n",
    "        if file.endswith(\".png\"):\n",
    "            GT.append(file)\n",
    "\n",
    "\n",
    "    Im=os.listdir(Im_path)\n",
    "\n",
    "    GT=sorted(GT)\n",
    "    Im=sorted(Im)\n",
    "    return GT,Im"
   ]
  },
  {
   "cell_type": "code",
   "execution_count": 15,
   "metadata": {},
   "outputs": [
    {
     "name": "stdout",
     "output_type": "stream",
     "text": [
      "Feature and Label generation completed\n"
     ]
    }
   ],
   "source": [
    "GT,Im=Get_Image_and_Ground_Truth(GT_path,Im_path)\n",
    "\n",
    "\n",
    "\n",
    "\n",
    "Features=[]\n",
    "Labels=[]\n",
    "#0-173\n",
    "scale_factor=0.5\n",
    "steps=100\n",
    "for i in range(steps):\n",
    "    \n",
    "    Train_GT=imread(GT_path+\"/\"+GT[i])\n",
    "    Image_Train=imread(Im_path+\"/\"+Im[i])\n",
    "    \n",
    "    # Train Image\n",
    "    I_train=rescale(Image_Train,scale_factor,mode='reflect')\n",
    "    nx,ny=I_train[:,:,0].shape\n",
    "    # Train Labels\n",
    "    Train_Labels=rescale(Train_GT,scale_factor,mode='reflect', preserve_range=True)\n",
    "    mask_Train = Train_Labels == 1\n",
    "    # Find Train Features \n",
    "    Train_Features=np.reshape(Generate_Features(I_train),[54,nx*ny]).T\n",
    "    Features.append(Train_Features)\n",
    "    Labels.append(mask_Train.reshape(-1).astype('int'))\n",
    "Features=np.array(Features)\n",
    "Features=Features.reshape(steps*nx*ny,54)\n",
    "Labels=np.array(Labels)\n",
    "Labels=Labels.reshape(steps*nx*ny)    \n",
    "print(\"Feature and Label generation completed\")"
   ]
  },
  {
   "cell_type": "code",
   "execution_count": 16,
   "metadata": {},
   "outputs": [
    {
     "name": "stdout",
     "output_type": "stream",
     "text": [
      "(11674800, 50)\n",
      "(11674800,)\n"
     ]
    },
    {
     "data": {
      "text/plain": [
       "RandomForestClassifier(bootstrap=True, class_weight=None, criterion='gini',\n",
       "            max_depth=None, max_features='auto', max_leaf_nodes=None,\n",
       "            min_impurity_split=1e-07, min_samples_leaf=1,\n",
       "            min_samples_split=2, min_weight_fraction_leaf=0.0,\n",
       "            n_estimators=128, n_jobs=8, oob_score=False, random_state=None,\n",
       "            verbose=0, warm_start=False)"
      ]
     },
     "execution_count": 16,
     "metadata": {},
     "output_type": "execute_result"
    }
   ],
   "source": [
    "print(np.array(Features).shape)\n",
    "print(np.array(Labels).shape)\n",
    "RF = RandomForestClassifier(n_estimators=128,n_jobs=cpu_count())\n",
    "RF.fit(Features,Labels)"
   ]
  },
  {
   "cell_type": "code",
   "execution_count": 17,
   "metadata": {},
   "outputs": [
    {
     "data": {
      "text/plain": [
       "['KITI_RandomForest05V3.pkl']"
      ]
     },
     "execution_count": 17,
     "metadata": {},
     "output_type": "execute_result"
    }
   ],
   "source": [
    "joblib.dump(RF, 'KITI_RandomForest05.pkl') "
   ]
  }
 ],
 "metadata": {
  "kernelspec": {
   "display_name": "Python 3",
   "language": "python",
   "name": "python3"
  },
  "language_info": {
   "codemirror_mode": {
    "name": "ipython",
    "version": 3
   },
   "file_extension": ".py",
   "mimetype": "text/x-python",
   "name": "python",
   "nbconvert_exporter": "python",
   "pygments_lexer": "ipython3",
   "version": "3.6.4"
  }
 },
 "nbformat": 4,
 "nbformat_minor": 2
}
